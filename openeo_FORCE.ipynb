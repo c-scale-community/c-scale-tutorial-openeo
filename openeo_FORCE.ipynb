{
 "cells": [
  {
   "cell_type": "code",
   "execution_count": 1,
   "metadata": {},
   "outputs": [],
   "source": [
    "import openeo"
   ]
  },
  {
   "cell_type": "code",
   "execution_count": 2,
   "metadata": {},
   "outputs": [
    {
     "data": {
      "text/plain": [
       "'0.13.0'"
      ]
     },
     "execution_count": 2,
     "metadata": {},
     "output_type": "execute_result"
    }
   ],
   "source": [
    "openeo.client_version()"
   ]
  },
  {
   "cell_type": "code",
   "execution_count": 3,
   "metadata": {},
   "outputs": [
    {
     "name": "stdout",
     "output_type": "stream",
     "text": [
      "Authenticated using refresh token.\n"
     ]
    }
   ],
   "source": [
    "backend = \"openeo.cloud\"\n",
    "conn = openeo.connect(backend).authenticate_oidc(provider_id='egi')"
   ]
  },
  {
   "cell_type": "code",
   "execution_count": 4,
   "metadata": {},
   "outputs": [],
   "source": [
    "# Define a process graph\n",
    "spatial_extent = {\n",
    "    'west': 9.981079,\n",
    "    'east': 12.958374,\n",
    "    'south': 46.061797,\n",
    "    'north': 47.428087,\n",
    "    'crs': 'EPSG:4326',\n",
    "}\n",
    "\n",
    "temporal_extent = [\"2021-01-01\", \"2021-01-02\"]\n",
    "collection = 'SENTINEL2_L1C'\n",
    "bands = ['B01', 'B02', 'B03', 'B04', 'B05', 'B06', 'B07', 'B08', 'B8A', 'B09', 'B10', 'B11', 'B12']\n",
    "\n",
    "cube = conn.load_collection(\n",
    "    collection,\n",
    "    spatial_extent=spatial_extent,\n",
    "    bands=bands,\n",
    "    temporal_extent=temporal_extent,\n",
    "    fetch_metadata=False\n",
    ")\n",
    "ard = cube.ard_surface_reflectance(atmospheric_correction_method = 'FORCE', cloud_detection_method = 'Fmask', elevation_model = \"cop-dem-30m\")\n",
    "\n",
    "data_saved = ard.save_result(format=\"NetCDF\")"
   ]
  },
  {
   "cell_type": "code",
   "execution_count": 5,
   "metadata": {},
   "outputs": [],
   "source": [
    "UC1 = data_saved.flat_graph()"
   ]
  },
  {
   "cell_type": "code",
   "execution_count": 8,
   "metadata": {},
   "outputs": [],
   "source": [
    "job_ard = conn.create_job(UC1)\n",
    "job_id_ard = job_ard.job_id"
   ]
  },
  {
   "cell_type": "code",
   "execution_count": 13,
   "metadata": {},
   "outputs": [],
   "source": [
    "job_ard.start_job()"
   ]
  },
  {
   "cell_type": "code",
   "execution_count": 14,
   "metadata": {},
   "outputs": [
    {
     "name": "stdout",
     "output_type": "stream",
     "text": [
      "Batch job created with id:  eodc-jb-e698c53b-8e3d-476c-92ce-64320c8568a9\n"
     ]
    }
   ],
   "source": [
    "if job_id_ard:\n",
    "    print(\"Batch job created with id: \", job_id_ard)\n",
    "    job_ard.start_job()\n",
    "else:\n",
    "    print(\"Error! Job ID is None\")"
   ]
  },
  {
   "cell_type": "code",
   "execution_count": 11,
   "metadata": {},
   "outputs": [],
   "source": [
    "import time"
   ]
  },
  {
   "cell_type": "code",
   "execution_count": null,
   "metadata": {},
   "outputs": [
    {
     "name": "stdout",
     "output_type": "stream",
     "text": [
      "running - running - running - running - running - running - running - running - "
     ]
    },
    {
     "name": "stderr",
     "output_type": "stream",
     "text": [
      "Connection with expired access token ([403] TokenInvalid) automatically re-authenticated with refresh token.\n"
     ]
    },
    {
     "name": "stdout",
     "output_type": "stream",
     "text": [
      "running - running - running - running - running - running - running - running - running - running - running - "
     ]
    }
   ],
   "source": [
    "job_stat = True\n",
    "while job_stat:\n",
    "    \n",
    "    try:\n",
    "        if job_ard.status() == \"running\" or job_ard.status() == \"queued\":\n",
    "            job_stat = True\n",
    "        else:\n",
    "            job_stat = False\n",
    "    except:\n",
    "        pass\n",
    "            \n",
    "            \n",
    "    time.sleep(60)\n",
    "    print(str(job_ard.status())+\" -\", end= \" \")\n",
    "# print(datetime.datetime.now())\n",
    "# end = datetime.datetime.now()"
   ]
  },
  {
   "cell_type": "code",
   "execution_count": 39,
   "metadata": {},
   "outputs": [],
   "source": [
    "results = job_ard.get_results()\n",
    "metadata = results.get_metadata()\n",
    "results.download_files(\"./\")"
   ]
  },
  {
   "cell_type": "code",
   "execution_count": 56,
   "metadata": {},
   "outputs": [
    {
     "data": {
      "text/plain": [
       "'queued'"
      ]
     },
     "execution_count": 56,
     "metadata": {},
     "output_type": "execute_result"
    }
   ],
   "source": [
    "job_ard.status()"
   ]
  },
  {
   "cell_type": "code",
   "execution_count": 20,
   "metadata": {},
   "outputs": [],
   "source": [
    "job_ard.stop_job()"
   ]
  },
  {
   "cell_type": "code",
   "execution_count": null,
   "metadata": {},
   "outputs": [],
   "source": []
  }
 ],
 "metadata": {
  "kernelspec": {
   "display_name": "openEO Python Client",
   "language": "python",
   "name": "python3"
  },
  "language_info": {
   "codemirror_mode": {
    "name": "ipython",
    "version": 3
   },
   "file_extension": ".py",
   "mimetype": "text/x-python",
   "name": "python",
   "nbconvert_exporter": "python",
   "pygments_lexer": "ipython3",
   "version": "3.9.6"
  },
  "vscode": {
   "interpreter": {
    "hash": "b633433e0dcd184e4b0d920ea141e926abd381ee87cebd2050eca72d5776dbcf"
   }
  }
 },
 "nbformat": 4,
 "nbformat_minor": 4
}
